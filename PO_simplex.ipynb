{
  "nbformat": 4,
  "nbformat_minor": 0,
  "metadata": {
    "colab": {
      "name": "PO-simplex.ipynb",
      "provenance": [],
      "toc_visible": true,
      "authorship_tag": "ABX9TyO3/rmKyHdnVB++BZUG+Gu0",
      "include_colab_link": true
    },
    "kernelspec": {
      "name": "python3",
      "display_name": "Python 3"
    },
    "language_info": {
      "name": "python"
    }
  },
  "cells": [
    {
      "cell_type": "markdown",
      "metadata": {
        "id": "view-in-github",
        "colab_type": "text"
      },
      "source": [
        "<a href=\"https://colab.research.google.com/github/pccalegari/exemplos_PO/blob/main/PO_simplex.ipynb\" target=\"_parent\"><img src=\"https://colab.research.google.com/assets/colab-badge.svg\" alt=\"Open In Colab\"/></a>"
      ]
    },
    {
      "cell_type": "markdown",
      "metadata": {
        "id": "F5i3E6Lr9D0r"
      },
      "source": [
        "\n",
        "# Programação linear"
      ]
    },
    {
      "cell_type": "markdown",
      "metadata": {
        "id": "jcNjWjoZbaHn"
      },
      "source": [
        "# Exemplo 1 #\n",
        "\n",
        "Solução de um PL usando *python* (Mais detalhes veja [scipy](https://scipy.github.io/devdocs/tutorial/optimize.html#linear-programming-linprog) e [Real Python](https://realpython.com/linear-programming-python/#small-linear-programming-problem))\n",
        "\n",
        "$$\\begin{array}{lrl}\n",
        "\\mbox{maximixar} & x_1 + x_2 &  \\\\ \n",
        "\\mbox{sujeita a} & 2x_1+ x_2 & \\le 20\\\\ \n",
        "& -4x_1+5x_2 & \\le 10 \\\\ \n",
        "& -x_1 + 2x_2 & \\ge 2 \\\\ \n",
        "& -x_1 + 5x_2 & = 15 \\\\ \n",
        "& x_1,x_2 & \\ge 0 \n",
        "\\end{array}$$\n",
        "\n",
        "Para utilizar a biblioteca optimize.linprog é necessário escrever o PL no formato \n",
        "\n",
        "$$\\begin{array}{ll}\n",
        "\\mbox{minimizar} & c^T x   \\\\ \n",
        "\\mbox{sujeita a} & A_{ub}x  \\le b_{ub}\\\\ \n",
        "& A_{eq}x  = b_{eq}\\\\  \n",
        "& l \\le x  \\le u  \n",
        "\\end{array}$$\n"
      ]
    },
    {
      "cell_type": "code",
      "metadata": {
        "id": "jtPHge_RyiBv",
        "colab": {
          "base_uri": "https://localhost:8080/"
        },
        "outputId": "4ee846a7-c694-41b9-ba55-9732b76426b5"
      },
      "source": [
        "from scipy.optimize import linprog\n",
        "import numpy as np\n",
        "\n",
        "ct = [-1, -2]\n",
        "lhs_ineq = [[ 2,  1],  \n",
        "            [-4,  5],  \n",
        "            [ 1, -2]]  \n",
        "\n",
        "rhs_ineq = [20,  \n",
        "            10,  \n",
        "             2]  \n",
        "\n",
        "lhs_eq = [[-1, 5]]  \n",
        "rhs_eq = [15]       \n",
        "bnd = [(0, float(\"inf\")), \n",
        "       (0, float(\"inf\"))]\n",
        "\n",
        "opt = linprog(c=ct,A_ub=lhs_ineq,b_ub=rhs_ineq,A_eq=lhs_eq,b_eq=rhs_eq,bounds=bnd,method=\"revised simplex\")\n",
        "opt\n"
      ],
      "execution_count": null,
      "outputs": [
        {
          "output_type": "execute_result",
          "data": {
            "text/plain": [
              "     con: array([1.77635684e-15])\n",
              "     fun: -16.818181818181817\n",
              " message: 'Optimization terminated successfully.'\n",
              "     nit: 3\n",
              "   slack: array([ 0.        , 18.18181818,  3.36363636])\n",
              "  status: 0\n",
              " success: True\n",
              "       x: array([7.72727273, 4.54545455])"
            ]
          },
          "metadata": {},
          "execution_count": 10
        }
      ]
    },
    {
      "cell_type": "markdown",
      "metadata": {
        "id": "iXoRMdG63TDB"
      },
      "source": [
        "# Exemplo 2 # \n",
        "\n",
        "$$\\begin{array}{lrl}\n",
        "\\mbox{maximixar} & 5x_1 + 5x_2 + 3x_3&  \\\\ \n",
        "\\mbox{sujeita a} & x_1+ 3x_2 + x_3& \\le 3\\\\ \n",
        "& -x_1+ 3x_3 & \\le 2 \\\\ \n",
        "& 2x_1 -x_2 +2x_3 & \\le 4 \\\\ \n",
        "& 2x_1 + 3x_2 -x_3 & \\le 2 \\\\ \n",
        "& x_1,x_2,x_3 & \\ge 0 \n",
        "\\end{array}$$\n",
        "\n",
        "No formato para utilizar a biblioteca:    \n",
        "\n",
        "$$\\begin{array}{lrl}\n",
        "\\mbox{minimizar} & -5x_1 -5x_2 - 3x_3 &  \\\\ \n",
        "\\mbox{sujeita a} & x_1+ 3x_2 + x_3& \\le 3\\\\ \n",
        "& -x_1+ 3x_3 & \\le 2 \\\\ \n",
        "& 2x_1 -x_2 +2x_3 & \\le 4 \\\\ \n",
        "& 2x_1 + 3x_2 -x_3 & \\le 2 \\\\ \n",
        "& x_1,x_2,x_3 & \\ge 0 \n",
        "\\end{array}$$"
      ]
    },
    {
      "cell_type": "code",
      "metadata": {
        "colab": {
          "base_uri": "https://localhost:8080/"
        },
        "id": "QFAoy4-w17ka",
        "outputId": "6c64269f-429d-4a4d-9982-a752ff554b6f"
      },
      "source": [
        "from scipy.optimize import linprog\n",
        "import numpy as np\n",
        "\n",
        "ct = [-5, -5, -3]\n",
        "lhs_ineq = [[ 1,  3, 1],  \n",
        "            [-1, 0, 3],  \n",
        "            [ 2, -1, 2],\n",
        "            [2, 3, -1]]  \n",
        "\n",
        "rhs_ineq = [3,  \n",
        "            2,  \n",
        "            4,\n",
        "            2]  \n",
        "\n",
        "#lhs_eq = [[-1, 5]]  \n",
        "#rhs_eq = [15]       \n",
        "\n",
        "opt = linprog(c=ct,A_ub=lhs_ineq,b_ub=rhs_ineq,method=\"simplex\")\n",
        "opt\n"
      ],
      "execution_count": null,
      "outputs": [
        {
          "output_type": "execute_result",
          "data": {
            "text/plain": [
              "     con: array([], dtype=float64)\n",
              "     fun: -10.0\n",
              " message: 'Optimization terminated successfully.'\n",
              "     nit: 4\n",
              "   slack: array([3.44827586e-02, 0.00000000e+00, 0.00000000e+00, 2.22044605e-16])\n",
              "  status: 0\n",
              " success: True\n",
              "       x: array([1.10344828, 0.27586207, 1.03448276])"
            ]
          },
          "metadata": {},
          "execution_count": 13
        }
      ]
    }
  ]
}