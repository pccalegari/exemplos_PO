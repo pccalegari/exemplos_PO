{
  "nbformat": 4,
  "nbformat_minor": 0,
  "metadata": {
    "colab": {
      "name": "unidade3a1.ipynb",
      "provenance": [],
      "collapsed_sections": [],
      "toc_visible": true,
      "authorship_tag": "ABX9TyP7BIPuuATePu4rlDKHnIbu",
      "include_colab_link": true
    },
    "kernelspec": {
      "name": "python3",
      "display_name": "Python 3"
    },
    "language_info": {
      "name": "python"
    }
  },
  "cells": [
    {
      "cell_type": "markdown",
      "metadata": {
        "id": "view-in-github",
        "colab_type": "text"
      },
      "source": [
        "<a href=\"https://colab.research.google.com/github/pccalegari/exemplos_PO/blob/main/unidade3a1.ipynb\" target=\"_parent\"><img src=\"https://colab.research.google.com/assets/colab-badge.svg\" alt=\"Open In Colab\"/></a>"
      ]
    },
    {
      "cell_type": "markdown",
      "metadata": {
        "id": "rRH8GXuTqTjd"
      },
      "source": [
        "\n",
        "\n",
        "\n",
        "\n",
        "# Unidade 3 - Sistemas de equações\n",
        "\n",
        "\n"
      ]
    },
    {
      "cell_type": "markdown",
      "metadata": {
        "id": "SUHnaI9tH795"
      },
      "source": [
        "Nesta unidade, vamos estudar métodos diretos e iterativos para aproximar a solução se sistemas de equações lineares e métodos iterativos para sistemas de equações não lineares. A seguir, apresentamos alguns exemplos de resolução em *Python*. Vamos utilizar as bibliotecas [numpy](https://numpy.org/) e [scipy](https://scipy.github.io/devdocs/index.html)."
      ]
    },
    {
      "cell_type": "markdown",
      "metadata": {
        "id": "UseaF7aVI3NX"
      },
      "source": [
        "# Método direto"
      ]
    },
    {
      "cell_type": "markdown",
      "metadata": {
        "id": "YXR5d7XdrIdb"
      },
      "source": [
        "\n",
        "\n",
        "Resolva os sistemas lineares abaixo usando o método de Eliminação de Gauss e Decomposição LU:    \n",
        "\n",
        "(1) $$\\begin{array}{rcl}\n",
        "7x_1 + 2x_2-5x_3 & = & -18\\\\  \n",
        "x_1 + 5x_2 -3x_3 & = & -40 \\\\  \n",
        "2x_1-x_2-9x_3 & = & -26\n",
        "\\end{array}$$\n",
        "\n",
        "(2) Programe os métodos para resolver $Ax = b$ onde, $$A_{ij}=\\dfrac{1}{i+j-1}, b_i=\\dfrac{1}{i}, i,j=1:n$$\n",
        "Use $n=20,50$ e $100$. Você pode explicar seus resultados? Note que a solução exata é $(1,0,\\ldots, 0)$.\n",
        "\n",
        "(3) Considere o sistema:    \n",
        "$$\\begin{array}{rcl}\n",
        "-2(1+h^2)x_1+x_2 & = & 1\\\\   \n",
        "x_{i-1} - 2(1+h^2)x_i+x_{i+1} &=& 0, \\ i=2:n-1\\\\ \n",
        "x_{n-1} - 2(1+h^2)x_n &= &1\n",
        "\\end{array}$$\n",
        "\n",
        "(a) Use o algoritmo para matrizes tridiagonais e resolva o problema com $n=3$ e $h=0.1$.\n",
        "\n",
        "(b) Programe o algoritmo para matriz triadiagonal e resolva o problema com $n=30$ e $h=0.1$."
      ]
    },
    {
      "cell_type": "code",
      "metadata": {
        "id": "xJuFV9C-qMEE",
        "colab": {
          "base_uri": "https://localhost:8080/"
        },
        "outputId": "5c37d1c2-778e-4156-c564-51817c26a71c"
      },
      "source": [
        "import numpy as np\n",
        "import matplotlib.pyplot as plt\n",
        "from scipy import linalg\n",
        "from time import time\n",
        "\n",
        "A = np.array([[-1, -2.3, 4.7, 12], [-1.1, 2, 3.1,3.9], [-2.1, -2.2, 3.7, 16], [-1.2, 2.1, -1.1, 4]])\n",
        "b = np.array([[4], [3.9], [12.2], [6]])\n",
        "\n",
        "start_time = time()\n",
        "x = linalg.inv(A).dot(b) \n",
        "print(\"tempo inversa: \", time() - start_time)\n",
        "\n",
        "start_time = time()\n",
        "x1 = np.linalg.solve(A, b)  \n",
        "print(\"tempo eliminação Gauss: \", time() - start_time)\n"
      ],
      "execution_count": 2,
      "outputs": [
        {
          "output_type": "stream",
          "name": "stdout",
          "text": [
            "tempo inversa:  0.013547420501708984\n",
            "tempo eliminação Gauss:  0.0012373924255371094\n"
          ]
        }
      ]
    },
    {
      "cell_type": "markdown",
      "metadata": {
        "id": "P9Ve8gDTHl29"
      },
      "source": [
        "# Métodos iterativos"
      ]
    },
    {
      "cell_type": "markdown",
      "metadata": {
        "id": "YLptKFgMCISg"
      },
      "source": [
        "\n",
        "Método de Jacobi e método de Gauss-Seidel\n",
        "\n",
        "(4) Faça três iterações dos métodos de Gauss-Seidel e Jacobi para resolver o sistema:    \n",
        "\n",
        "$$\\begin{array}{rcl}\n",
        "4x_1+0.24x_2+0.08x_3 &=& 8\\\\ \n",
        "0.09x_1+3x_2-0.15x_3 & = & 9\\\\ \n",
        "0.04x_1-0.08x_2+4x_3 & = & 20\n",
        "\\end{array}$$\n",
        "\n",
        "Utilize $x^{0}=(0,0,0)$ e analise $\\max_{i}|x_i^k - x_i^{k-1}|$ a cada iteração.\n",
        "\n"
      ]
    }
  ]
}